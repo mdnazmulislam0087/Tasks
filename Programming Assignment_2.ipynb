{
 "cells": [
  {
   "cell_type": "markdown",
   "id": "d452a854",
   "metadata": {},
   "source": [
    "###### 1.Write a Python program to convert kilometers to miles?\n"
   ]
  },
  {
   "cell_type": "code",
   "execution_count": 3,
   "id": "54b34f46",
   "metadata": {},
   "outputs": [
    {
     "name": "stdout",
     "output_type": "stream",
     "text": [
      "Please Enter the kilometer you want to convert:  5\n",
      "5 kilometers=3.10685595 miles\n"
     ]
    }
   ],
   "source": [
    "kilometers=int(input(\"Please Enter the kilometer you want to convert:  \"))\n",
    "miles= kilometers*0.62137119 \n",
    "print(f\"{kilometers} kilometers={miles} miles\")"
   ]
  },
  {
   "cell_type": "markdown",
   "id": "3ee01221",
   "metadata": {},
   "source": [
    "###### 2.Write a Python program to convert Celsius to Fahrenheit?"
   ]
  },
  {
   "cell_type": "code",
   "execution_count": 4,
   "id": "c18b4e09",
   "metadata": {},
   "outputs": [
    {
     "name": "stdout",
     "output_type": "stream",
     "text": [
      "Please Enter the Celsius you want to convert:  0\n",
      "0 Celsius=32.0 Fahrenheit\n"
     ]
    }
   ],
   "source": [
    "Celsius=int(input(\"Please Enter the Celsius you want to convert:  \"))\n",
    "Fahrenheit=Celsius*(9/5)+32\n",
    "print(f\"{Celsius} Celsius={Fahrenheit} Fahrenheit\")"
   ]
  },
  {
   "cell_type": "markdown",
   "id": "41c311d2",
   "metadata": {},
   "source": [
    "###### 3.Write a Python program to display calendar?"
   ]
  },
  {
   "cell_type": "code",
   "execution_count": 14,
   "id": "0e954c3a",
   "metadata": {},
   "outputs": [
    {
     "name": "stdout",
     "output_type": "stream",
     "text": [
      "Enter year: 1987\n",
      "Enter month: 5\n",
      "      May 1987\n",
      "Mo Tu We Th Fr Sa Su\n",
      "             1  2  3\n",
      " 4  5  6  7  8  9 10\n",
      "11 12 13 14 15 16 17\n",
      "18 19 20 21 22 23 24\n",
      "25 26 27 28 29 30 31\n",
      "\n"
     ]
    }
   ],
   "source": [
    "import calendar\n",
    "year = int(input(\"Enter year: \"))\n",
    "month = int(input(\"Enter month: \"))\n",
    "\n",
    "print(calendar.month(year,month))\n"
   ]
  },
  {
   "cell_type": "markdown",
   "id": "4aee6162",
   "metadata": {},
   "source": [
    "###### 4.Write a Python program to solve quadratic equation?"
   ]
  },
  {
   "cell_type": "code",
   "execution_count": 17,
   "id": "a265ec40",
   "metadata": {},
   "outputs": [
    {
     "name": "stdout",
     "output_type": "stream",
     "text": [
      "Enter the coefficient of x2 : 1\n",
      "Enter the coefficient of x : 5\n",
      "Enter the constant b : 6\n",
      "The first output is -2.0 and the second output is -3.0\n"
     ]
    }
   ],
   "source": [
    "# quadratic equation ax2+bx+c=0\n",
    "#formula x=-b+sqrt(b2-4ac)/2a\n",
    "#formula,x=-b-sqrt(b2-4ac)/2a\n",
    "import math\n",
    "a = int(input(\"Enter the coefficient of x2 : \"))\n",
    "b = int(input(\"Enter the coefficient of x : \"))\n",
    "c = int(input(\"Enter the constant b : \"))\n",
    "output1= (-b+math.sqrt(b*b-4*a*c))/2*a\n",
    "output2= (-b-math.sqrt(b*b-4*a*c))/2*a\n",
    "\n",
    "print(f\"The first output is {output1} and the second output is {output2}\")\n"
   ]
  },
  {
   "cell_type": "markdown",
   "id": "a3f6bb38",
   "metadata": {},
   "source": [
    "###### 5.Write a Python program to swap two variables without temp variable?"
   ]
  },
  {
   "cell_type": "code",
   "execution_count": 18,
   "id": "f68dde00",
   "metadata": {},
   "outputs": [
    {
     "name": "stdout",
     "output_type": "stream",
     "text": [
      "nazmul\n",
      "10\n"
     ]
    }
   ],
   "source": [
    "a=10\n",
    "b='nazmul'\n",
    "a,b=b,a\n",
    "print(a)\n",
    "print(b)"
   ]
  },
  {
   "cell_type": "code",
   "execution_count": null,
   "id": "1041db79",
   "metadata": {},
   "outputs": [],
   "source": []
  }
 ],
 "metadata": {
  "kernelspec": {
   "display_name": "Python 3",
   "language": "python",
   "name": "python3"
  },
  "language_info": {
   "codemirror_mode": {
    "name": "ipython",
    "version": 3
   },
   "file_extension": ".py",
   "mimetype": "text/x-python",
   "name": "python",
   "nbconvert_exporter": "python",
   "pygments_lexer": "ipython3",
   "version": "3.8.8"
  }
 },
 "nbformat": 4,
 "nbformat_minor": 5
}
