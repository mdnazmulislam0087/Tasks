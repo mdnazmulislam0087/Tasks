{
 "cells": [
  {
   "cell_type": "markdown",
   "id": "f6288365",
   "metadata": {},
   "source": [
    "###### 1.\tWrite a Python program to print \"Hello Python\"?\n"
   ]
  },
  {
   "cell_type": "code",
   "execution_count": 1,
   "id": "fc2d32f1",
   "metadata": {},
   "outputs": [
    {
     "name": "stdout",
     "output_type": "stream",
     "text": [
      "Hello Python\n"
     ]
    }
   ],
   "source": [
    "# Answer 1:\n",
    "print(\"Hello Python\")"
   ]
  },
  {
   "cell_type": "markdown",
   "id": "7832e2ce",
   "metadata": {},
   "source": [
    "###### 2.\tWrite a Python program to do arithmetical operations addition and division.?"
   ]
  },
  {
   "cell_type": "code",
   "execution_count": 3,
   "id": "1035fa0f",
   "metadata": {},
   "outputs": [
    {
     "data": {
      "text/plain": [
       "11"
      ]
     },
     "execution_count": 3,
     "metadata": {},
     "output_type": "execute_result"
    }
   ],
   "source": [
    "# arithmetical operations addition\n",
    "5+6"
   ]
  },
  {
   "cell_type": "code",
   "execution_count": 2,
   "id": "b7b176e3",
   "metadata": {},
   "outputs": [
    {
     "data": {
      "text/plain": [
       "0.8333333333333334"
      ]
     },
     "execution_count": 2,
     "metadata": {},
     "output_type": "execute_result"
    }
   ],
   "source": [
    "# arithmetical operations division\n",
    "5/6"
   ]
  },
  {
   "cell_type": "markdown",
   "id": "e1fdd2c8",
   "metadata": {},
   "source": [
    "###### 3.\tWrite a Python program to find the area of a triangle?"
   ]
  },
  {
   "cell_type": "code",
   "execution_count": 5,
   "id": "0d709b43",
   "metadata": {},
   "outputs": [
    {
     "name": "stdout",
     "output_type": "stream",
     "text": [
      "Please provide the base of Triangle:  5\n",
      "Please provide the height of Triangle:  5\n",
      "The area of the Triangle is : 12.5\n"
     ]
    }
   ],
   "source": [
    "base= int(input(\"Please provide the base of Triangle:  \"))\n",
    "height= int(input(\"Please provide the height of Triangle:  \"))\n",
    "Area =(1/2)*base*height\n",
    "\n",
    "print(f\"The area of the Triangle is : {Area}\")"
   ]
  },
  {
   "cell_type": "markdown",
   "id": "12000563",
   "metadata": {},
   "source": [
    "###### 4.\tWrite a Python program to swap two variables?"
   ]
  },
  {
   "cell_type": "code",
   "execution_count": 16,
   "id": "43d07e4c",
   "metadata": {},
   "outputs": [
    {
     "name": "stdout",
     "output_type": "stream",
     "text": [
      "Enter a Number for Variable a: 2\n",
      "Enter a Number for Variable b: 3\n",
      "Before swapping The value of a is 2 and the value of b is 3\n",
      "After swapping The value of a is 3 and the value of b is 2\n"
     ]
    }
   ],
   "source": [
    "a=int(input(\"Enter a Number for Variable a: \"))\n",
    "      \n",
    "b=int(input(\"Enter a Number for Variable b: \"))\n",
    "\n",
    "print(f\"Before swapping The value of a is {a} and the value of b is {b}\")\n",
    "\n",
    "#Lets swap\n",
    "a,b=b,a\n",
    "print(f\"After swapping The value of a is {a} and the value of b is {b}\")"
   ]
  },
  {
   "cell_type": "markdown",
   "id": "0292fa78",
   "metadata": {},
   "source": [
    "###### 5.\tWrite a Python program to generate a random number?"
   ]
  },
  {
   "cell_type": "code",
   "execution_count": 9,
   "id": "fe73622d",
   "metadata": {},
   "outputs": [
    {
     "name": "stdout",
     "output_type": "stream",
     "text": [
      "1\n"
     ]
    }
   ],
   "source": [
    "# Program to generate a random number between 0 and 9\n",
    "\n",
    "# importing the random module\n",
    "import random\n",
    "\n",
    "print(random.randint(0,9))"
   ]
  }
 ],
 "metadata": {
  "kernelspec": {
   "display_name": "Python 3",
   "language": "python",
   "name": "python3"
  },
  "language_info": {
   "codemirror_mode": {
    "name": "ipython",
    "version": 3
   },
   "file_extension": ".py",
   "mimetype": "text/x-python",
   "name": "python",
   "nbconvert_exporter": "python",
   "pygments_lexer": "ipython3",
   "version": "3.8.8"
  }
 },
 "nbformat": 4,
 "nbformat_minor": 5
}
