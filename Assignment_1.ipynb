{
 "cells": [
  {
   "cell_type": "markdown",
   "id": "a6a83287",
   "metadata": {},
   "source": [
    "###### 1. In the below elements which of them are values or an expression? eg:- values can be integer or string and expressions will be mathematical operators.\n",
    "\n",
    "\n",
    "<ol>\n",
    "  <li> *   </li>  \n",
    "  <li> 'hello' </li>\n",
    "  <li> 87.8 </li>\n",
    "  <li> - </li>\n",
    "  <li> / </li>\n",
    "  <li> + </li>\n",
    "  <li> 6 </li>\n",
    "</ol>\n",
    "\n"
   ]
  },
  {
   "cell_type": "markdown",
   "id": "ad04b666",
   "metadata": {},
   "source": [
    "###### Ans 1: \n",
    "\n",
    "<ul>\n",
    "  <li> *  : Expression as it is a mathmetical operator which represents multiplication </li>  \n",
    "  <li> 'hello' : It is a value as it is a string </li>\n",
    "  <li> 87.8 : It is a value as it is a floating point number </li>\n",
    "  <li> -   : Expression as it is a mathmetical operator which represents minus</li>\n",
    "  <li> /  : Expression as it is a mathmetical operator which represents divide</li>\n",
    "  <li> + : Expression as it is a mathmetical operato which represents addition</li>\n",
    "  <li> 6 : It is a value as it is a integer </li>\n",
    "</ul>\n",
    "\n",
    "\n",
    "\n"
   ]
  },
  {
   "cell_type": "markdown",
   "id": "bae3ffda",
   "metadata": {},
   "source": [
    "###### 2. What is the difference between string and variable?\n",
    "\n",
    "###### Answer:<br>\n",
    "\n",
    "As far as Python is concerned, anything using quotes (single or double) will be considered as a string.<br>\n",
    "Example:<br>\n",
    "'Nazmul'<br>\n",
    "'767'<br>\n",
    "'mnjiol8765'<br>\n",
    "\"As4ggh'<br>\n",
    "\n",
    "variable as an identifier  to store a value in a main memory location(RAM) and to manipulate it if needed.<br>\n",
    "Example:<br>\n",
    "a=10<br>\n",
    "b='33'\n",
    "\n"
   ]
  },
  {
   "cell_type": "markdown",
   "id": "2317ff7e",
   "metadata": {},
   "source": [
    "###### 3.Describe three different data types.\n"
   ]
  },
  {
   "cell_type": "code",
   "execution_count": 15,
   "id": "b6495e86",
   "metadata": {},
   "outputs": [
    {
     "name": "stdout",
     "output_type": "stream",
     "text": [
      "One example of floating point number is : 3.2\n",
      "The type for 3.2 is <class 'float'>\n",
      "One example of complex number is : (2+3j)\n",
      "The type for (2+3j) is <class 'complex'>\n",
      "One example of complex number is : Nazmul\n",
      "The type for Nazmul is <class 'str'>\n"
     ]
    }
   ],
   "source": [
    "#Answer:3\n",
    "#The float type in Python designates a floating-point number. float values are specified with a decimal point. \n",
    "a=3.2\n",
    "print(f\"One example of floating point number is : {a}\")\n",
    "print(f\"The type for {a} is {type(a)}\")\n",
    "\n",
    "#Complex numbers are specified as <real part>+<imaginary part>j. For example:\n",
    "b=2+3j\n",
    "print(f\"One example of complex number is : {b}\")\n",
    "print(f\"The type for {b} is {type(b)}\")\n",
    "\n",
    "#As far as Python is concerned, anything using quotes (single or double) will be considered as a string.\n",
    "c=\"Nazmul\"\n",
    "print(f\"One example of complex number is : {c}\")\n",
    "print(f\"The type for {c} is {type(c)}\")\n",
    "\n"
   ]
  },
  {
   "cell_type": "markdown",
   "id": "8192ef64",
   "metadata": {},
   "source": [
    "###### 4. What is an expression made up of? What do all expressions do?\n",
    "\n",
    "\n",
    "##### Answer:\n",
    "An expression is a combination of operators and operands that is interpreted to produce some other value"
   ]
  },
  {
   "cell_type": "code",
   "execution_count": 16,
   "id": "71457f0b",
   "metadata": {},
   "outputs": [
    {
     "name": "stdout",
     "output_type": "stream",
     "text": [
      "16.3\n",
      "52\n",
      "28\n",
      "480\n",
      "3.3333333333333335\n",
      "25\n",
      "2.6\n",
      "True\n",
      "False\n",
      "True\n",
      "True\n"
     ]
    }
   ],
   "source": [
    "\n",
    "# Constant Expressions\n",
    "x = 15 + 1.3\n",
    "  \n",
    "print(x)\n",
    "\n",
    "\n",
    "\n",
    "\n",
    "# Arithmetic Expressions\n",
    "x = 40\n",
    "y = 12\n",
    "  \n",
    "add = x + y\n",
    "sub = x - y\n",
    "pro = x * y\n",
    "div = x / y\n",
    "  \n",
    "print(add)\n",
    "print(sub)\n",
    "print(pro)\n",
    "print(div)\n",
    "\n",
    "\n",
    "\n",
    "\n",
    "# Integral Expressions\n",
    "a = 13\n",
    "b = 12.0\n",
    "  \n",
    "c = a + int(b)\n",
    "print(c)\n",
    "\n",
    "\n",
    "# Floating Expressions\n",
    "a = 13\n",
    "b = 5\n",
    "  \n",
    "c = a / b\n",
    "print(c)\n",
    "\n",
    "\n",
    "# Relational Expressions\n",
    "a = 21\n",
    "b = 13\n",
    "c = 40\n",
    "d = 37\n",
    "  \n",
    "p = (a + b) >= (c - d)\n",
    "print(p)\n",
    "\n",
    "\n",
    "P = (10 == 9)\n",
    "Q = (7 > 5)\n",
    "  \n",
    "# Logical Expressions\n",
    "R = P and Q\n",
    "S = P or Q\n",
    "T = not P\n",
    "  \n",
    "print(R)\n",
    "print(S)\n",
    "print(T)\n",
    "\n"
   ]
  },
  {
   "cell_type": "markdown",
   "id": "f19d2250",
   "metadata": {},
   "source": [
    "###### 5. This assignment statements, like spam = 10. What is the difference between an expression and a statement?\n",
    "\n",
    "##### Answer:\n",
    "\n",
    "\n",
    "\n",
    "An expression evaluates to a value. A statement does something. Statements represent an action or command e.g print statements, assignment statements. Expression is a combination of variables, operations and values that yields a result value.\n",
    "\n",
    "\n",
    "\n",
    "\n",
    "\n"
   ]
  },
  {
   "cell_type": "code",
   "execution_count": 21,
   "id": "3bcc8065",
   "metadata": {},
   "outputs": [
    {
     "data": {
      "text/plain": [
       "'HelloWorld'"
      ]
     },
     "execution_count": 21,
     "metadata": {},
     "output_type": "execute_result"
    }
   ],
   "source": [
    "# Expression\n",
    "\"\"\"An expression is a combination of values, variables, and operators. A value all by itself is\n",
    "considered an expression, and so is a variable, so the following are all legal expressions:\"\"\"\n",
    "\"Hello\" + \"World\"\n"
   ]
  },
  {
   "cell_type": "markdown",
   "id": "a0fd20ef",
   "metadata": {},
   "source": [
    "A statement is a unit of code that has an effect, like creating a variable or displaying a value."
   ]
  },
  {
   "cell_type": "code",
   "execution_count": 22,
   "id": "07a5a0c3",
   "metadata": {},
   "outputs": [
    {
     "name": "stdout",
     "output_type": "stream",
     "text": [
      "17\n"
     ]
    }
   ],
   "source": [
    "n = 17\n",
    "print(n)"
   ]
  },
  {
   "cell_type": "markdown",
   "id": "8c8f7a85",
   "metadata": {},
   "source": [
    "The first line is an assignment statement that gives a value to n. The second line is a print statement that displays the value of n. When you type a statement, the interpreter executes it, which means that it does whatever the statement says. In general, statements don’t have values"
   ]
  },
  {
   "cell_type": "markdown",
   "id": "89c68942",
   "metadata": {},
   "source": [
    "###### 6. After running the following code, what does the variable bacon contain?\n",
    "bacon = 22 <br>\n",
    "bacon + 1\n",
    "\n",
    "<br>\n",
    "\n",
    "\n",
    "##### Answer :  22\n",
    "\n"
   ]
  },
  {
   "cell_type": "code",
   "execution_count": 11,
   "id": "cdb883d5",
   "metadata": {},
   "outputs": [
    {
     "data": {
      "text/plain": [
       "22"
      ]
     },
     "execution_count": 11,
     "metadata": {},
     "output_type": "execute_result"
    }
   ],
   "source": [
    "bacon = 22 \n",
    "bacon + 1\n",
    "bacon"
   ]
  },
  {
   "cell_type": "markdown",
   "id": "1d2e62fc",
   "metadata": {},
   "source": [
    "###### 7. What should the values of the following two terms be?\n",
    "'spam' + 'spamspam' <br>\n",
    "'spam' * 3\n",
    "\n",
    "###### Answer:<br>\n",
    "'spam' + 'spamspam'  : spamspamspam <br>\n",
    "'spam' * 3      :  spamspamspam\n"
   ]
  },
  {
   "cell_type": "code",
   "execution_count": 10,
   "id": "d188e72e",
   "metadata": {},
   "outputs": [
    {
     "name": "stdout",
     "output_type": "stream",
     "text": [
      "spamspamspam\n",
      "spamspamspam\n"
     ]
    }
   ],
   "source": [
    "#Answer 7: \n",
    "print('spam' + 'spamspam')\n",
    "print('spam' * 3)"
   ]
  },
  {
   "cell_type": "markdown",
   "id": "9f027f93",
   "metadata": {},
   "source": [
    "###### 8. Why is eggs a valid variable name while 100 is invalid?\n",
    "\n",
    "###### Answer:\n",
    "Variable name cant start with a number, for this reason 100 is invalid; <br>\n",
    "Variable name can contain and alphabet, eggs is a valid one"
   ]
  },
  {
   "cell_type": "markdown",
   "id": "828d44fd",
   "metadata": {},
   "source": [
    "###### 9. What three functions can be used to get the integer, floating-point number, or string version of a value?\n",
    "\n",
    "int() <br>\n",
    "float()<br>\n",
    "str()"
   ]
  },
  {
   "cell_type": "code",
   "execution_count": 23,
   "id": "dad33cb0",
   "metadata": {},
   "outputs": [
    {
     "name": "stdout",
     "output_type": "stream",
     "text": [
      "3\n",
      "8.0\n",
      "3.2\n"
     ]
    }
   ],
   "source": [
    "print(int(3.2))\n",
    "print(float(8))\n",
    "print(str(3.2))\n"
   ]
  },
  {
   "cell_type": "markdown",
   "id": "663b87dd",
   "metadata": {},
   "source": [
    "###### 10. Why does this expression cause an error? How can you fix it?\n",
    "'I have eaten ' + 99 + ' burritos.'\n",
    "\n",
    "###### Answer: <br>\n",
    "It gives error as \" <br>\n",
    "TypeError: can only concatenate str (not \"int\") to str\" We cant concatenate str to str not with integer <br>\n",
    "We Can fix it by type casting and as follows- <br>\n",
    "'I have eaten ' + '99' + ' burritos.' <br>\n",
    "  or <br>\n",
    "'I have eaten ' + str(99) + ' burritos.' \n",
    "\n"
   ]
  },
  {
   "cell_type": "code",
   "execution_count": 4,
   "id": "5c849603",
   "metadata": {},
   "outputs": [
    {
     "ename": "TypeError",
     "evalue": "can only concatenate str (not \"int\") to str",
     "output_type": "error",
     "traceback": [
      "\u001b[1;31m---------------------------------------------------------------------------\u001b[0m",
      "\u001b[1;31mTypeError\u001b[0m                                 Traceback (most recent call last)",
      "\u001b[1;32m<ipython-input-4-a77fdbe7551b>\u001b[0m in \u001b[0;36m<module>\u001b[1;34m\u001b[0m\n\u001b[0;32m      1\u001b[0m \u001b[1;31m# Answer :10\u001b[0m\u001b[1;33m\u001b[0m\u001b[1;33m\u001b[0m\u001b[1;33m\u001b[0m\u001b[0m\n\u001b[1;32m----> 2\u001b[1;33m \u001b[1;34m'I have eaten '\u001b[0m \u001b[1;33m+\u001b[0m \u001b[1;36m99\u001b[0m \u001b[1;33m+\u001b[0m \u001b[1;34m' burritos.'\u001b[0m\u001b[1;33m\u001b[0m\u001b[1;33m\u001b[0m\u001b[0m\n\u001b[0m",
      "\u001b[1;31mTypeError\u001b[0m: can only concatenate str (not \"int\") to str"
     ]
    }
   ],
   "source": [
    "# Answer :10\n",
    "'I have eaten ' + 99 + ' burritos.'"
   ]
  },
  {
   "cell_type": "code",
   "execution_count": 8,
   "id": "887b48b4",
   "metadata": {},
   "outputs": [
    {
     "data": {
      "text/plain": [
       "'I have eaten 99 burritos.'"
      ]
     },
     "execution_count": 8,
     "metadata": {},
     "output_type": "execute_result"
    }
   ],
   "source": [
    "#Answer 10\n",
    "'I have eaten ' + '99' + ' burritos.'"
   ]
  },
  {
   "cell_type": "code",
   "execution_count": 7,
   "id": "14100466",
   "metadata": {},
   "outputs": [
    {
     "data": {
      "text/plain": [
       "'I have eaten 99 burritos.'"
      ]
     },
     "execution_count": 7,
     "metadata": {},
     "output_type": "execute_result"
    }
   ],
   "source": [
    "#Answer 10\n",
    "'I have eaten ' + str(99) + ' burritos.'\n"
   ]
  },
  {
   "cell_type": "code",
   "execution_count": null,
   "id": "cff5276a",
   "metadata": {},
   "outputs": [],
   "source": []
  }
 ],
 "metadata": {
  "kernelspec": {
   "display_name": "Python 3",
   "language": "python",
   "name": "python3"
  },
  "language_info": {
   "codemirror_mode": {
    "name": "ipython",
    "version": 3
   },
   "file_extension": ".py",
   "mimetype": "text/x-python",
   "name": "python",
   "nbconvert_exporter": "python",
   "pygments_lexer": "ipython3",
   "version": "3.8.8"
  }
 },
 "nbformat": 4,
 "nbformat_minor": 5
}
