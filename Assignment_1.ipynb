{
 "cells": [
  {
   "cell_type": "markdown",
   "id": "a6a83287",
   "metadata": {},
   "source": [
    "###### 1. In the below elements which of them are values or an expression? eg:- values can be integer or string and expressions will be mathematical operators.\n",
    "\n",
    "\n",
    "<ol>\n",
    "  <li> *   </li>  \n",
    "  <li> 'hello' </li>\n",
    "  <li> 87.8 </li>\n",
    "  <li> - </li>\n",
    "  <li> / </li>\n",
    "  <li> + </li>\n",
    "  <li> 6 </li>\n",
    "</ol>\n",
    "\n"
   ]
  },
  {
   "cell_type": "markdown",
   "id": "bae3ffda",
   "metadata": {},
   "source": [
    "###### 2. What is the difference between string and variable?"
   ]
  },
  {
   "cell_type": "markdown",
   "id": "2317ff7e",
   "metadata": {},
   "source": [
    "###### 3.Describe three different data types."
   ]
  },
  {
   "cell_type": "markdown",
   "id": "8192ef64",
   "metadata": {},
   "source": [
    "###### 4. What is an expression made up of? What do all expressions do?"
   ]
  },
  {
   "cell_type": "markdown",
   "id": "f19d2250",
   "metadata": {},
   "source": [
    "###### 5. This assignment statements, like spam = 10. What is the difference between an expression and a statement?"
   ]
  },
  {
   "cell_type": "markdown",
   "id": "89c68942",
   "metadata": {},
   "source": [
    "###### 6. After running the following code, what does the variable bacon contain?\n",
    "bacon = 22 <br>\n",
    "bacon + 1\n"
   ]
  },
  {
   "cell_type": "markdown",
   "id": "1d2e62fc",
   "metadata": {},
   "source": [
    "###### 7. What should the values of the following two terms be?\n",
    "'spam' + 'spamspam' <br>\n",
    "'spam' * 3\n"
   ]
  },
  {
   "cell_type": "markdown",
   "id": "9f027f93",
   "metadata": {},
   "source": [
    "###### 8. Why is eggs a valid variable name while 100 is invalid?"
   ]
  },
  {
   "cell_type": "markdown",
   "id": "828d44fd",
   "metadata": {},
   "source": [
    "###### 9. What three functions can be used to get the integer, floating-point number, or string version of a value?"
   ]
  },
  {
   "cell_type": "markdown",
   "id": "663b87dd",
   "metadata": {},
   "source": [
    "###### 10. Why does this expression cause an error? How can you fix it?\n",
    "'I have eaten ' + 99 + ' burritos.'\n"
   ]
  },
  {
   "cell_type": "code",
   "execution_count": null,
   "id": "5c849603",
   "metadata": {},
   "outputs": [],
   "source": []
  }
 ],
 "metadata": {
  "kernelspec": {
   "display_name": "Python 3",
   "language": "python",
   "name": "python3"
  },
  "language_info": {
   "codemirror_mode": {
    "name": "ipython",
    "version": 3
   },
   "file_extension": ".py",
   "mimetype": "text/x-python",
   "name": "python",
   "nbconvert_exporter": "python",
   "pygments_lexer": "ipython3",
   "version": "3.8.8"
  }
 },
 "nbformat": 4,
 "nbformat_minor": 5
}
